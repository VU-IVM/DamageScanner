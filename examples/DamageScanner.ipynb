{
 "cells": [
  {
   "cell_type": "code",
   "execution_count": 1,
   "id": "61fb887a-0697-4744-87ff-1b4368cc1e91",
   "metadata": {},
   "outputs": [],
   "source": [
    "import os,sys\n",
    "os.environ['USE_PYGEOS'] = '0'\n",
    "import rasterio\n",
    "import shapely\n",
    "import xarray as xr\n",
    "import numpy as np\n",
    "import pandas as pd\n",
    "import geopandas as gpd\n",
    "from tqdm import tqdm\n",
    "from pathlib import Path,PurePath\n",
    "from typing import Union\n",
    "\n",
    "import osm_flex.download as dl\n",
    "import osm_flex.extract as ex\n",
    "\n",
    "sys.path.append(\"../src/damagescanner\")\n",
    "\n",
    "data_path = Path('..')\n",
    "\n",
    "from raster import RasterScanner\n",
    "from vector import VectorScanner"
   ]
  },
  {
   "cell_type": "code",
   "execution_count": 2,
   "id": "5c2b6ddd-9fe1-4818-ad07-799c3a484aeb",
   "metadata": {},
   "outputs": [],
   "source": [
    "class DamageScanner(object):\n",
    "    \"\"\"DamageScanner - a directe damage assessment toolkit\t\n",
    "    \"\"\"\n",
    "    def prepare(self, assessment_type, data_path, curves = pd.DataFrame(), maxdam = dict(),osm_pbf=False,**kwargs):\n",
    "        \"\"\"Prepare the input for a damage assessment\n",
    "        \"\"\"\n",
    "\n",
    "        self.assessment_type = assessment_type\n",
    "        \n",
    "        self.data_path = data_path       \n",
    "\n",
    "        # Collect exposure data\n",
    "        try:\n",
    "            if self.assessment_type == 'raster':\n",
    "                self.exposure_data =  list(p.resolve() for p in Path(data_path / 'exposure').glob(\"**/*\") if p.suffix in {\".tif\", \".tiff\", \".nc\"})[0]\n",
    "            elif self.assessment_type == 'vector':\n",
    "                get_data = list(p.resolve() for p in Path(data_path / 'exposure').glob(\"**/*\") if p.suffix in {\".gpkg\", \".shp\", \".geoparquet\",\".feather\",\".pbf\"})\n",
    "                if osm_pbf:\n",
    "                    self.exposure_data =  list(p.resolve() for p in Path(data_path / 'exposure').glob(\"**/*\") if p.suffix in {\".pbf\"})[0]\n",
    "                    self.osm_pbf = osm_pbf\n",
    "                elif len(get_data) > 0:\n",
    "                    self.exposure_data =  [p for p in get_data if p.suffix in {\".gpkg\", \".shp\", \".geoparquet\",\".feather\"}][0]\n",
    "                    self.osm_pbf = False\n",
    "                elif len([p for p in get_data if p.suffix in {\".gpkg\", \".shp\", \".geoparquet\",\".feather\"}]) == 0:\n",
    "                    self.exposure_data =  list(p.resolve() for p in Path(data_path / 'exposure').glob(\"**/*\") if p.suffix in {\".pbf\"})[0]     \n",
    "                    self.osm_pbf = osm_pbf\n",
    "        except:\n",
    "            raise ImportError(\": No exposure data found. Either use the download() function to download OpenStreetMap data, or manually add data to the exposure folder\")\n",
    "        \n",
    "        # Collect hazard data\n",
    "        self.hazard_data = list(p.resolve() for p in Path(data_path / 'hazard').glob(\"**/*\") if p.suffix in {\".tif\", \".tiff\", \".nc\"})\n",
    "\n",
    "        if len(self.hazard_data) == 0:\n",
    "            raise ImportError(\"NOTE: No hazard data found. Add data to the hazard folder first\")\n",
    "\n",
    "        # Collect vulnerability curves\n",
    "        if len(curves) > 0:\n",
    "            self.curves = curves\n",
    "        else:\n",
    "            self.curves = list(p.resolve() for p in Path(data_path / 'vulnerability').glob(\"**/*\") if 'curve' in str(p).lower())[0]\n",
    "\n",
    "        # Collect maxdam information\n",
    "        if len(maxdam) > 0:\n",
    "            self.maxdam = maxdam\n",
    "        else:\n",
    "            self.maxdam = list(p.resolve() for p in Path(data_path / 'vulnerability').glob(\"**/*\") if (('dam' in str(p).lower()) |\n",
    "                                                                                                       ('cost' in str(p).lower()))) [0]\n",
    "       \n",
    "        \n",
    "    def single_event(self,hazard_type='',hazard_file='',return_period='',save_output=False,vector_landuse=True,**kwargs):\n",
    "        \"\"\"Damage assessment for a single event. Can be a specific hazard event, or a specific single hazard footprint \n",
    "        \"\"\"\n",
    "\n",
    "        if not hasattr(self, 'assessment_type'):\n",
    "            raise ImportError('ERROR: Please run .prepare() first to set up the assessment')\n",
    "\n",
    "        if hazard_file != '':\n",
    "            self.hazard_map = [x for x in self.hazard_data if hazard_file in str(x)][0]\n",
    "        else:      \n",
    "            if hazard_type == '':\n",
    "                if len(self.hazard_data) == 1:\n",
    "                    self.hazard_map = self.hazard_data[0]\n",
    "                else:\n",
    "                    raise RuntimeError('Multiple events require the .multiple_events() function!')     \n",
    "            elif hazard_type != '':\n",
    "                if hazard_type == 'flood':\n",
    "                    hazard_characteristics = ['inun','flood','fluvial','pluvial','coastal','fd','pd']\n",
    "                elif hazard_type == 'windstorm':\n",
    "                    hazard_characteristics = ['storm','wind','cyclone','tc']\n",
    "                elif hazard_type == 'earthquake':\n",
    "                    hazard_characteristics = ['eq','earthquake']\n",
    "                elif hazard_type == 'landslide':\n",
    "                    hazard_characteristics = ['ls','landslide']\n",
    "                \n",
    "                hazard_maps = [x for x in self.hazard_data if any(y in str(x).lower() for y in hazard_characteristics)]\n",
    "                \n",
    "                if return_period != '':\n",
    "                    self.hazard_map = [x for x in hazard_maps if return_period in str(x)].lower()[0]\n",
    "                \n",
    "                elif return_period == '':\n",
    "                    self.hazard_map = hazard_maps[0]\n",
    "                \n",
    "                else:\n",
    "                    raise RuntimeError('Specify filename or flood type and return period to be able to run a single event analysis. Multiple events require the .multiple_events() function.')           \n",
    "            \n",
    "        if self.assessment_type == 'raster':\n",
    "\n",
    "            return RasterScanner(\n",
    "                            exposure_file = self.exposure_data,\n",
    "                            hazard_file = self.hazard_map,\n",
    "                            curve_path = self.curves,\n",
    "                            maxdam_path = self.maxdam,\n",
    "                            save=save_output)\n",
    "\n",
    "        elif self.assessment_type == 'vector':\n",
    "\n",
    "            # specificy essential data input characteristics\n",
    "            if 'cell_size' in kwargs:\n",
    "                self.cell_size = kwargs.get('cell_size')#0.01666,\n",
    "            else:\n",
    "                self.cell_size = 5\n",
    "    \n",
    "            if 'exp_crs' in kwargs:\n",
    "                self.exp_crs = kwargs.get('exp_crs')\n",
    "            else:\n",
    "                self.exp_crs = 4326\n",
    "    \n",
    "            if 'haz_crs' in kwargs:\n",
    "                self.haz_crs = kwargs.get('haz_crs')\n",
    "            else:\n",
    "                self.haz_crs = 4326\n",
    "    \n",
    "            if 'object_col' in kwargs:\n",
    "                self.object_col = kwargs.get('object_col')\n",
    "            else:\n",
    "                self.object_col = 'landuse'\n",
    "    \n",
    "            if 'hazard_col' in kwargs:\n",
    "                self.hazard_col = kwargs.get('hazard_col')\n",
    "            else:\n",
    "                self.hazard_col = 'inun_val'\n",
    "    \n",
    "            if 'lat_col' in kwargs:\n",
    "                self.lat_col = kwargs.get('lat_col')\n",
    "            else:\n",
    "                self.lat_col = 'y'\n",
    "    \n",
    "            if 'lon_col' in kwargs:\n",
    "                self.lon_col = kwargs.get('lon_col')\n",
    "            else:\n",
    "                self.lon_col = 'x'\n",
    "    \n",
    "            if 'centimers' in kwargs:\n",
    "                self.centimers = kwargs.get('centimers')#0.01666,#5,\n",
    "            else:\n",
    "                self.centimers = False\n",
    "            \n",
    "            if self.osm_pbf:\n",
    "                if 'buildings' in kwargs:\n",
    "                    self.exposure_data = DamageScanner.buildings(self)                  \n",
    "                    self.exposure_data = self.exposure_data.rename({'building':'element_type'},axis=1)       \n",
    "                    \n",
    "                elif 'roads' in kwargs:\n",
    "                    self.exposure_data = DamageScanner.cis(self,infra_type='road')\n",
    "                    self.exposure_data = self.exposure_data.rename({'highway':'element_type'},axis=1)       \n",
    "                \n",
    "                elif vector_landuse:\n",
    "                    self.exposure_data = DamageScanner.landuse(self)\n",
    "                    self.exposure_data = self.exposure_data.rename({'landuse':'element_type'},axis=1)       \n",
    "\n",
    "            \n",
    "            return VectorScanner(\n",
    "                            exposure_file = self.exposure_data,\n",
    "                            hazard_file = self.hazard_map,\n",
    "                            curve_path = self.curves,\n",
    "                            maxdam_path = self.maxdam,\n",
    "                            cell_size = self.cell_size, #0.01666,#5,\n",
    "                            exp_crs = self.exp_crs, #28992,\n",
    "                            haz_crs = self.haz_crs, #4326,\n",
    "                            object_col= self.object_col, #'landuse',\n",
    "                            hazard_col= self.hazard_col,\n",
    "                            lat_col = self.lat_col,\n",
    "                            lon_col = self.lon_col,\n",
    "                            centimeters= self.centimers, #False,\n",
    "                            save=save_output)  \n",
    "\n",
    "                \n",
    "    def multiple_events(self):\n",
    "        \"\"\"Damage assessment for multiple events. Also the input for the risk assessment\n",
    "        \"\"\"\n",
    "        pass\n",
    "\n",
    "    def risk(self):\n",
    "        \"\"\"Risk assessment\n",
    "        \"\"\"\n",
    "        pass\n",
    "\n",
    "    def landuse(self):\n",
    "        \"\"\"\n",
    "        \"\"\"\n",
    "        extracted_exposure = ex.extract(\n",
    "                            \tself.exposure_data, 'multipolygons', ['landuse'])    \n",
    "        \n",
    "        extracted_exposure.geometry = shapely.make_valid(extracted_exposure.geometry)        \n",
    "\n",
    "        return extracted_exposure\n",
    "    \n",
    "    def buildings(self):\n",
    "        \"\"\"\n",
    "        \"\"\"\n",
    "        extracted_exposure = ex.extract(\n",
    "                            \tself.exposure_data, 'multipolygons', ['building'])    \n",
    "        \n",
    "        extracted_exposure.geometry = shapely.make_valid(extracted_exposure.geometry)        \n",
    "\n",
    "        return extracted_exposure\n",
    "\n",
    "    def cis(self,infra_type):\n",
    "        \"\"\"\n",
    "        \"\"\"\n",
    "        extracted_exposure = ex.extract_cis(self.exposure_data, infra_type)\n",
    "\n",
    "        if infra_type == 'road':\n",
    "            extracted_exposure = extracted_exposure.loc[extracted_exposure.geometry.geom_type == 'LineString']\n",
    "        \n",
    "        extracted_exposure.geometry = shapely.make_valid(extracted_exposure.geometry)        \n",
    "\n",
    "        return extracted_exposure\n",
    "        \n",
    "    def cis_all(self,to_exclude=[]):\n",
    "        \"\"\"\n",
    "        \"\"\"\n",
    "        cis = ['healthcare', 'education', 'gas', 'oil', 'telecom', 'water', 'wastewater', 'power', 'rail', 'road', 'air']\n",
    "        pass\n",
    "\n",
    "    def download(self, country_code='JAM'):\n",
    "        \"\"\"\n",
    "        \"\"\"        \n",
    "        pass"
   ]
  },
  {
   "cell_type": "code",
   "execution_count": 3,
   "id": "bbd2b816-6d62-4c62-9b57-5b0892f51d19",
   "metadata": {},
   "outputs": [],
   "source": [
    "kampen = DamageScanner()"
   ]
  },
  {
   "cell_type": "code",
   "execution_count": 4,
   "id": "41eabb74-fc17-4a91-abb8-0cbd7c298340",
   "metadata": {},
   "outputs": [
    {
     "name": "stdout",
     "output_type": "stream",
     "text": [
      "CPU times: total: 1.11 s\n",
      "Wall time: 1.11 s\n"
     ]
    }
   ],
   "source": [
    "%%time\n",
    "kampen.prepare(assessment_type = 'raster',\n",
    "                data_path = data_path / 'data' / 'kampen')\n",
    "\n",
    "kampen_flood = kampen.single_event(hazard_type = 'flood')"
   ]
  },
  {
   "cell_type": "code",
   "execution_count": 12,
   "id": "3a9a4932-aa92-4033-bff6-ede4b7b9590d",
   "metadata": {},
   "outputs": [],
   "source": [
    "maxdam = {\"grass\":5,\n",
    "        \"forest\":10,\n",
    "        \"orchard\":50,\n",
    "        \"residential\":200,\n",
    "        \"education\":200,\n",
    "        \"industrial\":300,\n",
    "        \"retail\":300,\n",
    "        \"railway\":100,\n",
    "        \"farmland\":10,\n",
    "        \"cemetery\":15,\n",
    "        \"construction\":10,\n",
    "        \"meadow\":5,\n",
    "        \"farmyard\":5,\n",
    "        \"scrub\":5,\n",
    "        \"allotments\":10,\n",
    "        \"reservoir\":5,\n",
    "        \"static_caravan\":100,\n",
    "        \"commercial\":300,\n",
    "        'unclassified':100, \n",
    "        'primary':100, \n",
    "        'secondary':100, \n",
    "        'tertiary':100, \n",
    "        'residential':100,\n",
    "        'trunk':100, \n",
    "        'trunk_link':100, \n",
    "        'motorway':100, \n",
    "        'motorway_link':100, \n",
    "        'primary_link':100, \n",
    "        'secondary_link':100,\n",
    "        'tertiary_link':100,\n",
    "        'yes':300,\n",
    "        'house':300, \n",
    "        'apartments':300, \n",
    "        'roof':300, \n",
    "        'houseboat':300,\n",
    "        'greenhouse':300, \n",
    "        'school':300,\n",
    "        'church':300, \n",
    "        'civic':300, \n",
    "        'shed':300, \n",
    "        'garage':300, \n",
    "        'office':300, \n",
    "        'tech_cab':300,\n",
    "        'fire_station':300, \n",
    "        'public':300, \n",
    "        'service':300, \n",
    "        'factory':300, \n",
    "        'farm_auxiliary':300, \n",
    "        'storage_tank':300, \n",
    "        'parking':300, \n",
    "        'bicycle shed':300}\n",
    "\n",
    "curves = np.array(\n",
    "            [[0,0],\n",
    "            [50,0.2],\n",
    "            [100,0.4],\n",
    "            [150,0.6],\n",
    "            [200,0.8],\n",
    "            [250,1]])  \n",
    "    \n",
    "curves = np.concatenate((curves,\n",
    "                            np.transpose(np.array([curves[:,1]]*(len(maxdam)-1)))),\n",
    "                           axis=1)\n",
    "\n",
    "curves = pd.DataFrame(curves)\n",
    "curves.columns = ['depth']+list(maxdam.keys())\n",
    "curves.set_index('depth',inplace=True)    "
   ]
  },
  {
   "cell_type": "code",
   "execution_count": 17,
   "id": "f1bdef89-7542-482d-9321-5f87090424bc",
   "metadata": {},
   "outputs": [],
   "source": [
    "kampen.prepare(assessment_type = 'vector', \n",
    "               data_path = data_path / 'data' / 'kampen', \n",
    "                curves = curves, \n",
    "                maxdam = maxdam,\n",
    "               osm_pbf=True,\n",
    ")"
   ]
  },
  {
   "cell_type": "code",
   "execution_count": 15,
   "id": "611960af-60d3-42af-a195-83a941dba769",
   "metadata": {},
   "outputs": [
    {
     "name": "stderr",
     "output_type": "stream",
     "text": [
      "extract multipolygons: 100%|██████████████████████████████████████████████████| 29673/29673 [00:01<00:00, 23851.68it/s]\n"
     ]
    },
    {
     "name": "stdout",
     "output_type": "stream",
     "text": [
      "PROGRESS: Exposure and hazard data loaded\n"
     ]
    },
    {
     "name": "stderr",
     "output_type": "stream",
     "text": [
      "100%|███████████████████████████████████████████████████████████████████████████| 29673/29673 [00:40<00:00, 740.03it/s]\n"
     ]
    },
    {
     "name": "stdout",
     "output_type": "stream",
     "text": [
      "CPU times: total: 44.3 s\n",
      "Wall time: 44.3 s\n"
     ]
    }
   ],
   "source": [
    "%%time\n",
    "kampen_buildings = kampen.single_event(hazard_type = 'windstorm',\n",
    "                            buildings=True,\n",
    "                            exp_crs = 4326,\n",
    "                            haz_crs = 4326,\n",
    "                            cell_size = 0.166667,\n",
    "                            object_col= 'highway',\n",
    "                            hazard_col= 'FX',\n",
    "                            lat_col = 'Latitude',\n",
    "                            lon_col = 'Longitude',\n",
    "                            centimeters= True )"
   ]
  },
  {
   "cell_type": "code",
   "execution_count": null,
   "id": "bea6780c-fc55-4839-88fa-904d72359c5a",
   "metadata": {},
   "outputs": [],
   "source": [
    "kampen.prepare(assessment_type = 'vector', \n",
    "               data_path = data_path / 'data' / 'kampen', \n",
    "                curves = curves, \n",
    "                maxdam = maxdam,\n",
    "               osm_pbf=True,\n",
    ")"
   ]
  },
  {
   "cell_type": "code",
   "execution_count": 18,
   "id": "8821b885-59f1-468e-8f2e-0b2841b999bb",
   "metadata": {},
   "outputs": [
    {
     "name": "stderr",
     "output_type": "stream",
     "text": [
      "extract points: 0it [00:00, ?it/s]\n",
      "extract multipolygons: 0it [00:00, ?it/s]\n",
      "extract lines: 100%|████████████████████████████████████████████████████████████| 2651/2651 [00:00<00:00, 11051.43it/s]\n"
     ]
    },
    {
     "name": "stdout",
     "output_type": "stream",
     "text": [
      "PROGRESS: Exposure and hazard data loaded\n"
     ]
    },
    {
     "name": "stderr",
     "output_type": "stream",
     "text": [
      "100%|█████████████████████████████████████████████████████████████████████████████| 1905/1905 [00:01<00:00, 970.26it/s]\n"
     ]
    },
    {
     "name": "stdout",
     "output_type": "stream",
     "text": [
      "CPU times: total: 53.8 s\n",
      "Wall time: 53.9 s\n"
     ]
    }
   ],
   "source": [
    "%%time\n",
    "kampen_roads = kampen.single_event(hazard_type = 'flood',\n",
    "                            roads=True,\n",
    "                            exp_crs = 4326,\n",
    "                            haz_crs = 28992,\n",
    "                            cell_size = 5,\n",
    "                            object_col= 'landuse',\n",
    "                            centimeters= False )"
   ]
  },
  {
   "cell_type": "code",
   "execution_count": 19,
   "id": "12398908-20b9-472a-80bf-35f1708ffafe",
   "metadata": {},
   "outputs": [],
   "source": [
    "jamaica = DamageScanner()\n",
    "jamaica.prepare(assessment_type = 'vector', \n",
    "                data_path = data_path / 'data' / 'jamaica',                 \n",
    "                curves = curves, \n",
    "                maxdam = maxdam,\n",
    "                osm_pbf=True,\n",
    "                \n",
    ")"
   ]
  },
  {
   "cell_type": "code",
   "execution_count": 20,
   "id": "c11c1ce3-a969-44e8-8284-acdddb237426",
   "metadata": {},
   "outputs": [
    {
     "name": "stderr",
     "output_type": "stream",
     "text": [
      "extract points: 0it [00:00, ?it/s]\n",
      "extract multipolygons: 100%|█████████████████████████████████████████████████████████████| 2/2 [00:09<00:00,  4.83s/it]\n",
      "extract lines: 100%|███████████████████████████████████████████████████████████| 39952/39952 [00:04<00:00, 9462.96it/s]\n"
     ]
    },
    {
     "name": "stdout",
     "output_type": "stream",
     "text": [
      "PROGRESS: Exposure and hazard data loaded\n"
     ]
    },
    {
     "name": "stderr",
     "output_type": "stream",
     "text": [
      "100%|████████████████████████████████████████████████████████████████████████████| 37987/37987 [14:53<00:00, 42.50it/s]\n"
     ]
    },
    {
     "name": "stdout",
     "output_type": "stream",
     "text": [
      "CPU times: total: 16min 32s\n",
      "Wall time: 16min 31s\n"
     ]
    }
   ],
   "source": [
    "%%time\n",
    "jamaica_windstorm = jamaica.single_event(hazard_type = 'flood',\n",
    "                            roads=True,\n",
    "                            exp_crs = 4326,\n",
    "                            haz_crs = 4326,\n",
    "                            cell_size = 0.1,\n",
    "                            object_col= 'highway',\n",
    "                            centimeters= False )"
   ]
  },
  {
   "cell_type": "code",
   "execution_count": null,
   "id": "b4e50f10-3f5d-4ca8-ad5c-883d154953f0",
   "metadata": {},
   "outputs": [],
   "source": []
  }
 ],
 "metadata": {
  "kernelspec": {
   "display_name": "Python 3 (ipykernel)",
   "language": "python",
   "name": "python3"
  },
  "language_info": {
   "codemirror_mode": {
    "name": "ipython",
    "version": 3
   },
   "file_extension": ".py",
   "mimetype": "text/x-python",
   "name": "python",
   "nbconvert_exporter": "python",
   "pygments_lexer": "ipython3",
   "version": "3.11.6"
  }
 },
 "nbformat": 4,
 "nbformat_minor": 5
}
