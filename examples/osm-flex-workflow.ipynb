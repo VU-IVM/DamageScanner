{
 "cells": [
  {
   "cell_type": "code",
   "execution_count": 1,
   "id": "65ecaf68-e384-4f31-be3a-d675b7be61ca",
   "metadata": {},
   "outputs": [],
   "source": [
    "import geopandas as gpd\n",
    "import pandas as pd\n",
    "import xarray as xr\n",
    "import numpy as np\n",
    "import shapely\n",
    "\n",
    "import osm_flex.download as dl\n",
    "import osm_flex.extract as ex\n",
    "from osm_flex.config import OSM_DATA_DIR\n",
    "\n",
    "from tqdm import tqdm\n",
    "\n",
    "from lonboard import viz\n",
    "from lonboard.colormap import apply_continuous_cmap\n",
    "from palettable.colorbrewer.sequential import Blues_9\n",
    "\n",
    "from pathlib import Path\n",
    "import pathlib"
   ]
  },
  {
   "cell_type": "code",
   "execution_count": 2,
   "id": "1017b90c-6b11-47ef-90a1-dfe7f5c8c0ae",
   "metadata": {},
   "outputs": [],
   "source": [
    "# define paths\n",
    "p = Path(\"..\")\n",
    "data_path = Path(pathlib.Path.home().parts[0]) / \"Data\"\n",
    "flood_data = data_path / \"Flood_data\"\n",
    "vul_data = data_path / \"Vulnerability\""
   ]
  },
  {
   "cell_type": "markdown",
   "id": "c8b6bffb-cd9b-49df-a5fd-40bd12182a14",
   "metadata": {},
   "source": [
    "### LOAD OSM DATA"
   ]
  },
  {
   "cell_type": "code",
   "execution_count": 95,
   "id": "3a92974e-6427-46e1-b759-f1d442c3faef",
   "metadata": {},
   "outputs": [
    {
     "name": "stderr",
     "output_type": "stream",
     "text": [
      "extract points: 0it [00:00, ?it/s]\n",
      "extract multipolygons: 100%|█████████████████████████████████████████████████████████████| 2/2 [00:06<00:00,  3.43s/it]\n",
      "extract lines: 100%|███████████████████████████████████████████████████████████| 39952/39952 [00:04<00:00, 9838.46it/s]\n"
     ]
    }
   ],
   "source": [
    "iso3 = \"JAM\"\n",
    "dl.get_country_geofabrik(iso3)\n",
    "\n",
    "data_loc = OSM_DATA_DIR.joinpath(\"jamaica-latest.osm.pbf\")\n",
    "\n",
    "assets = ex.extract_cis(data_loc, \"road\")\n",
    "assets = assets.loc[assets.geometry.geom_type == \"LineString\"]\n",
    "assets = assets.rename(columns={\"highway\": \"asset\"})"
   ]
  },
  {
   "cell_type": "code",
   "execution_count": 96,
   "id": "28f68ff5-00fb-4318-b220-587829ce5aed",
   "metadata": {},
   "outputs": [
    {
     "data": {
      "application/vnd.jupyter.widget-view+json": {
       "model_id": "b7b59a709b2245dd85bc58960a86b6c4",
       "version_major": 2,
       "version_minor": 0
      },
      "text/plain": [
       "Map(layers=[PathLayer(table=pyarrow.Table\n",
       "osm_id: string\n",
       "asset: string\n",
       "name: string\n",
       "maxspeed: string\n",
       "lanes: st…"
      ]
     },
     "execution_count": 96,
     "metadata": {},
     "output_type": "execute_result"
    }
   ],
   "source": [
    "viz(assets, width_min_pixels=1)"
   ]
  },
  {
   "cell_type": "markdown",
   "id": "1fb2454a-f2bd-4b6d-9e85-74a498feba54",
   "metadata": {},
   "source": [
    "### LOAD HAZARD DATA"
   ]
  },
  {
   "cell_type": "code",
   "execution_count": 5,
   "id": "3fd8dc9e-e50c-49d1-ac53-e9bee7121f62",
   "metadata": {},
   "outputs": [],
   "source": [
    "pluvial_data = flood_data / \"Jamaica\" / \"fluvial_undefended\""
   ]
  },
  {
   "cell_type": "code",
   "execution_count": 6,
   "id": "2e82f33a-365e-4a06-954f-62817c97c91c",
   "metadata": {},
   "outputs": [],
   "source": [
    "fluvial_flood = list(pluvial_data.iterdir())[2]"
   ]
  },
  {
   "cell_type": "code",
   "execution_count": 8,
   "id": "cb067561-f98d-46a5-9eda-e0b94562afd4",
   "metadata": {},
   "outputs": [],
   "source": [
    "flood_map = xr.open_dataset(fluvial_flood, engine=\"rasterio\")"
   ]
  },
  {
   "cell_type": "code",
   "execution_count": 9,
   "id": "e584ec99-b67c-4f84-a106-c23034c5f8cb",
   "metadata": {},
   "outputs": [],
   "source": [
    "flood_map_vector = flood_map[\"band_data\"].to_dataframe().reset_index()\n",
    "\n",
    "# remove data that will not be used\n",
    "flood_map_vector = flood_map_vector.loc[\n",
    "    (flood_map_vector.band_data > 0) & (flood_map_vector.band_data < 100)\n",
    "]\n",
    "\n",
    "# create geometry values and drop lat lon columns\n",
    "flood_map_vector[\"geometry\"] = [\n",
    "    shapely.points(x) for x in list(zip(flood_map_vector[\"x\"], flood_map_vector[\"y\"]))\n",
    "]\n",
    "flood_map_vector = flood_map_vector.drop([\"x\", \"y\", \"band\", \"spatial_ref\"], axis=1)\n",
    "\n",
    "# drop all non values to reduce size\n",
    "flood_map_vector = flood_map_vector.loc[\n",
    "    ~flood_map_vector[\"band_data\"].isna()\n",
    "].reset_index(drop=True)\n",
    "\n",
    "# and turn them into squares again:\n",
    "flood_map_vector.geometry = shapely.buffer(\n",
    "    flood_map_vector.geometry, distance=0.00083 / 2, cap_style=\"square\"\n",
    ").values"
   ]
  },
  {
   "cell_type": "code",
   "execution_count": 10,
   "id": "fe7a7344-1ab3-41df-a3ce-234215169632",
   "metadata": {},
   "outputs": [
    {
     "data": {
      "application/vnd.jupyter.widget-view+json": {
       "model_id": "23633057e8ac49b580fdb4f5db16103b",
       "version_major": 2,
       "version_minor": 0
      },
      "text/plain": [
       "Map(layers=[SolidPolygonLayer(get_fill_color=<pyarrow.lib.FixedSizeListArray object at 0x0000020D08FC6F20>\n",
       "[\n",
       " …"
      ]
     },
     "execution_count": 10,
     "metadata": {},
     "output_type": "execute_result"
    }
   ],
   "source": [
    "viz(\n",
    "    gpd.GeoDataFrame(flood_map_vector.copy()),\n",
    "    get_fill_color=apply_continuous_cmap(flood_map_vector.band_data, Blues_9),\n",
    ")"
   ]
  },
  {
   "cell_type": "markdown",
   "id": "9825dacb-081d-425e-a131-2e158d118d87",
   "metadata": {},
   "source": [
    "### LOAD VULNERABILITY DATA"
   ]
  },
  {
   "cell_type": "code",
   "execution_count": 11,
   "id": "7e7bdd23-49d9-4782-b9b1-949f4a3abba2",
   "metadata": {},
   "outputs": [],
   "source": [
    "curves = pd.read_excel(\n",
    "    vul_data / \"Table_D2_Multi-Hazard_Fragility_and_Vulnerability_Curves_V1.0.0.xlsx\",\n",
    "    sheet_name=\"F_Vuln_Depth\",\n",
    "    index_col=[0],\n",
    "    header=[0, 1, 2, 3, 4],\n",
    ")\n",
    "infra_curves = curves.loc[\n",
    "    :,\n",
    "    curves.columns.get_level_values(\"Infrastructure description\").str.contains(\"Roads\"),\n",
    "]"
   ]
  },
  {
   "cell_type": "code",
   "execution_count": 12,
   "id": "9179ae5c-074f-4991-8fda-9329ac769cf2",
   "metadata": {},
   "outputs": [],
   "source": [
    "maxdam = pd.read_excel(\n",
    "    vul_data / \"Table_D3_Costs_V1.0.0.xlsx\", sheet_name=\"Cost_Database\", index_col=[0]\n",
    ")"
   ]
  },
  {
   "cell_type": "markdown",
   "id": "ccda35c8-0be3-4cb1-90c1-1f619034a375",
   "metadata": {},
   "source": [
    "### PERFORM DAMAGE ASSESSMENT"
   ]
  },
  {
   "cell_type": "code",
   "execution_count": 13,
   "id": "faab6a8d-8b72-4603-8223-95e58dee7ed5",
   "metadata": {},
   "outputs": [],
   "source": [
    "def overlay_hazard_assets(df_ds, assets):\n",
    "    # overlay\n",
    "    hazard_tree = shapely.STRtree(df_ds.geometry.values)\n",
    "    if (shapely.get_type_id(assets.iloc[0].geometry) == 3) | (\n",
    "        shapely.get_type_id(assets.iloc[0].geometry) == 6\n",
    "    ):\n",
    "        return hazard_tree.query(assets.geometry, predicate=\"intersects\")\n",
    "    else:\n",
    "        return hazard_tree.query(assets.buffered, predicate=\"intersects\")\n",
    "\n",
    "\n",
    "def buffer_assets(assets, buffer_size=0.00083):\n",
    "    assets[\"buffered\"] = shapely.buffer(assets.geometry.values, distance=buffer_size)\n",
    "    return assets\n",
    "\n",
    "\n",
    "def get_damage_per_asset(asset, flood_numpified, asset_geom, asset_type, curve, maxdam):\n",
    "    # find the exact hazard overlays:\n",
    "    get_hazard_points = flood_numpified[asset[1][\"hazard_point\"].values]\n",
    "    get_hazard_points[shapely.intersects(get_hazard_points[:, 1], asset_geom)]\n",
    "\n",
    "    # get maxdam and curves\n",
    "    maxdam_asset = maxdam\n",
    "    hazard_intensity = curve.index.values\n",
    "    fragility_values = curve.iloc[:, 0].values\n",
    "\n",
    "    # estimate damage\n",
    "    if len(get_hazard_points) == 0:\n",
    "        return asset[0], 0\n",
    "    else:\n",
    "        overlay_meters = shapely.length(\n",
    "            shapely.intersection(get_hazard_points[:, 1], asset_geom)\n",
    "        )\n",
    "        return asset[0], np.sum(\n",
    "            (\n",
    "                np.interp(\n",
    "                    np.float16(get_hazard_points[:, 0]),\n",
    "                    hazard_intensity,\n",
    "                    fragility_values,\n",
    "                )\n",
    "            )\n",
    "            * overlay_meters\n",
    "            * maxdam_asset\n",
    "        )"
   ]
  },
  {
   "cell_type": "code",
   "execution_count": 14,
   "id": "0b730e39-3301-4ca1-a76d-0e307f27d9fb",
   "metadata": {},
   "outputs": [
    {
     "name": "stdout",
     "output_type": "stream",
     "text": [
      "CPU times: total: 4.3 s\n",
      "Wall time: 4.3 s\n"
     ]
    }
   ],
   "source": [
    "%%time\n",
    "overlay_roads = pd.DataFrame(\n",
    "    overlay_hazard_assets(flood_map_vector, buffer_assets(roads)).T,\n",
    "    columns=[\"asset\", \"hazard_point\"],\n",
    ")"
   ]
  },
  {
   "cell_type": "code",
   "execution_count": 15,
   "id": "da671451-edb1-4b50-8c9d-f5e934882a02",
   "metadata": {},
   "outputs": [],
   "source": [
    "maxdams = maxdam.loc[\"Roads\", \"Amount\"].dropna()[:10]"
   ]
  },
  {
   "cell_type": "code",
   "execution_count": 90,
   "id": "1dd29e81-8b36-412b-b1d2-b9c3d8bbcbc4",
   "metadata": {},
   "outputs": [
    {
     "name": "stderr",
     "output_type": "stream",
     "text": [
      "polyline damage calculation for F7.1 with a max dam of 909.3454827565133: 100%|██| 5994/5994 [00:02<00:00, 2729.71it/s]\n",
      "polyline damage calculation for F7.1 with a max dam of 909.3454827565133: 100%|██| 5994/5994 [00:02<00:00, 2752.55it/s]\n",
      "polyline damage calculation for F7.1 with a max dam of 7.7971745573977564: 100%|█| 5994/5994 [00:02<00:00, 2758.52it/s]\n",
      "polyline damage calculation for F7.1 with a max dam of 5746.447358140652: 100%|██| 5994/5994 [00:02<00:00, 2678.17it/s]\n",
      "polyline damage calculation for F7.1 with a max dam of 1340.8377168994855: 100%|█| 5994/5994 [00:02<00:00, 2659.77it/s]\n",
      "polyline damage calculation for F7.1 with a max dam of 660.841446186175: 100%|███| 5994/5994 [00:02<00:00, 2561.29it/s]\n",
      "polyline damage calculation for F7.1 with a max dam of 95.77412263567753: 100%|██| 5994/5994 [00:02<00:00, 2665.75it/s]\n",
      "polyline damage calculation for F7.1 with a max dam of 114.92894716281305: 100%|█| 5994/5994 [00:02<00:00, 2647.03it/s]\n",
      "polyline damage calculation for F7.1 with a max dam of 221597.82214470676: 100%|█| 5994/5994 [00:02<00:00, 2787.81it/s]\n",
      "polyline damage calculation for F7.1 with a max dam of 22159.782214470677: 100%|█| 5994/5994 [00:02<00:00, 2783.06it/s]\n",
      "polyline damage calculation for F7.2 with a max dam of 909.3454827565133: 100%|██| 5994/5994 [00:02<00:00, 2772.16it/s]\n",
      "polyline damage calculation for F7.2 with a max dam of 909.3454827565133: 100%|██| 5994/5994 [00:02<00:00, 2689.04it/s]\n",
      "polyline damage calculation for F7.2 with a max dam of 7.7971745573977564: 100%|█| 5994/5994 [00:02<00:00, 2349.13it/s]\n",
      "polyline damage calculation for F7.2 with a max dam of 5746.447358140652: 100%|██| 5994/5994 [00:02<00:00, 2675.19it/s]\n",
      "polyline damage calculation for F7.2 with a max dam of 1340.8377168994855: 100%|█| 5994/5994 [00:02<00:00, 2687.44it/s]\n",
      "polyline damage calculation for F7.2 with a max dam of 660.841446186175: 100%|███| 5994/5994 [00:02<00:00, 2671.16it/s]\n",
      "polyline damage calculation for F7.2 with a max dam of 95.77412263567753: 100%|██| 5994/5994 [00:02<00:00, 2669.93it/s]\n",
      "polyline damage calculation for F7.2 with a max dam of 114.92894716281305: 100%|█| 5994/5994 [00:02<00:00, 2651.26it/s]\n",
      "polyline damage calculation for F7.2 with a max dam of 221597.82214470676: 100%|█| 5994/5994 [00:02<00:00, 2707.60it/s]\n",
      "polyline damage calculation for F7.2 with a max dam of 22159.782214470677: 100%|█| 5994/5994 [00:02<00:00, 2503.10it/s]\n",
      "polyline damage calculation for F7.2a (lower boundary) with a max dam of 909.3454827565133: 100%|█| 5994/5994 [00:02<00\n",
      "polyline damage calculation for F7.2a (lower boundary) with a max dam of 909.3454827565133: 100%|█| 5994/5994 [00:02<00\n",
      "polyline damage calculation for F7.2a (lower boundary) with a max dam of 7.7971745573977564: 100%|█| 5994/5994 [00:02<0\n",
      "polyline damage calculation for F7.2a (lower boundary) with a max dam of 5746.447358140652: 100%|█| 5994/5994 [00:02<00\n",
      "polyline damage calculation for F7.2a (lower boundary) with a max dam of 1340.8377168994855: 100%|█| 5994/5994 [00:02<0\n",
      "polyline damage calculation for F7.2a (lower boundary) with a max dam of 660.841446186175: 100%|█| 5994/5994 [00:02<00:\n",
      "polyline damage calculation for F7.2a (lower boundary) with a max dam of 95.77412263567753: 100%|█| 5994/5994 [00:02<00\n",
      "polyline damage calculation for F7.2a (lower boundary) with a max dam of 114.92894716281305: 100%|█| 5994/5994 [00:02<0\n",
      "polyline damage calculation for F7.2a (lower boundary) with a max dam of 221597.82214470676: 100%|█| 5994/5994 [00:02<0\n",
      "polyline damage calculation for F7.2a (lower boundary) with a max dam of 22159.782214470677: 100%|█| 5994/5994 [00:02<0\n",
      "polyline damage calculation for F7.2b (upper boundary) with a max dam of 909.3454827565133: 100%|█| 5994/5994 [00:02<00\n",
      "polyline damage calculation for F7.2b (upper boundary) with a max dam of 909.3454827565133: 100%|█| 5994/5994 [00:02<00\n",
      "polyline damage calculation for F7.2b (upper boundary) with a max dam of 7.7971745573977564: 100%|█| 5994/5994 [00:02<0\n",
      "polyline damage calculation for F7.2b (upper boundary) with a max dam of 5746.447358140652: 100%|█| 5994/5994 [00:02<00\n",
      "polyline damage calculation for F7.2b (upper boundary) with a max dam of 1340.8377168994855: 100%|█| 5994/5994 [00:02<0\n",
      "polyline damage calculation for F7.2b (upper boundary) with a max dam of 660.841446186175: 100%|█| 5994/5994 [00:02<00:\n",
      "polyline damage calculation for F7.2b (upper boundary) with a max dam of 95.77412263567753: 100%|█| 5994/5994 [00:02<00\n",
      "polyline damage calculation for F7.2b (upper boundary) with a max dam of 114.92894716281305: 100%|█| 5994/5994 [00:02<0\n",
      "polyline damage calculation for F7.2b (upper boundary) with a max dam of 221597.82214470676: 100%|█| 5994/5994 [00:02<0\n",
      "polyline damage calculation for F7.2b (upper boundary) with a max dam of 22159.782214470677: 100%|█| 5994/5994 [00:02<0\n",
      "polyline damage calculation for F7.3 with a max dam of 909.3454827565133: 100%|██| 5994/5994 [00:02<00:00, 2521.13it/s]\n",
      "polyline damage calculation for F7.3 with a max dam of 909.3454827565133: 100%|██| 5994/5994 [00:03<00:00, 1809.19it/s]\n",
      "polyline damage calculation for F7.3 with a max dam of 7.7971745573977564: 100%|█| 5994/5994 [00:02<00:00, 2869.30it/s]\n",
      "polyline damage calculation for F7.3 with a max dam of 5746.447358140652: 100%|██| 5994/5994 [00:02<00:00, 2832.63it/s]\n",
      "polyline damage calculation for F7.3 with a max dam of 1340.8377168994855: 100%|█| 5994/5994 [00:02<00:00, 2958.51it/s]\n",
      "polyline damage calculation for F7.3 with a max dam of 660.841446186175: 100%|███| 5994/5994 [00:02<00:00, 2965.86it/s]\n",
      "polyline damage calculation for F7.3 with a max dam of 95.77412263567753: 100%|██| 5994/5994 [00:02<00:00, 2898.35it/s]\n",
      "polyline damage calculation for F7.3 with a max dam of 114.92894716281305: 100%|█| 5994/5994 [00:02<00:00, 2848.67it/s]\n",
      "polyline damage calculation for F7.3 with a max dam of 221597.82214470676: 100%|█| 5994/5994 [00:02<00:00, 2945.71it/s]\n",
      "polyline damage calculation for F7.3 with a max dam of 22159.782214470677: 100%|█| 5994/5994 [00:02<00:00, 2923.87it/s]\n",
      "polyline damage calculation for F7.4 with a max dam of 909.3454827565133: 100%|██| 5994/5994 [00:02<00:00, 2911.12it/s]\n",
      "polyline damage calculation for F7.4 with a max dam of 909.3454827565133: 100%|██| 5994/5994 [00:02<00:00, 2977.60it/s]\n",
      "polyline damage calculation for F7.4 with a max dam of 7.7971745573977564: 100%|█| 5994/5994 [00:02<00:00, 2875.29it/s]\n",
      "polyline damage calculation for F7.4 with a max dam of 5746.447358140652: 100%|██| 5994/5994 [00:02<00:00, 2923.80it/s]\n",
      "polyline damage calculation for F7.4 with a max dam of 1340.8377168994855: 100%|█| 5994/5994 [00:01<00:00, 3036.46it/s]\n",
      "polyline damage calculation for F7.4 with a max dam of 660.841446186175: 100%|███| 5994/5994 [00:02<00:00, 2948.34it/s]\n",
      "polyline damage calculation for F7.4 with a max dam of 95.77412263567753: 100%|██| 5994/5994 [00:02<00:00, 2929.99it/s]\n",
      "polyline damage calculation for F7.4 with a max dam of 114.92894716281305: 100%|█| 5994/5994 [00:02<00:00, 2865.71it/s]\n",
      "polyline damage calculation for F7.4 with a max dam of 221597.82214470676: 100%|█| 5994/5994 [00:02<00:00, 2917.31it/s]\n",
      "polyline damage calculation for F7.4 with a max dam of 22159.782214470677: 100%|█| 5994/5994 [00:02<00:00, 2973.22it/s]\n",
      "polyline damage calculation for F7.5 with a max dam of 909.3454827565133: 100%|██| 5994/5994 [00:01<00:00, 3039.55it/s]\n",
      "polyline damage calculation for F7.5 with a max dam of 909.3454827565133: 100%|██| 5994/5994 [00:02<00:00, 2959.99it/s]\n",
      "polyline damage calculation for F7.5 with a max dam of 7.7971745573977564: 100%|█| 5994/5994 [00:02<00:00, 2974.66it/s]\n",
      "polyline damage calculation for F7.5 with a max dam of 5746.447358140652: 100%|██| 5994/5994 [00:01<00:00, 3011.84it/s]\n",
      "polyline damage calculation for F7.5 with a max dam of 1340.8377168994855: 100%|█| 5994/5994 [00:02<00:00, 2980.61it/s]\n",
      "polyline damage calculation for F7.5 with a max dam of 660.841446186175: 100%|███| 5994/5994 [00:02<00:00, 2948.34it/s]\n",
      "polyline damage calculation for F7.5 with a max dam of 95.77412263567753: 100%|██| 5994/5994 [00:02<00:00, 2915.39it/s]\n",
      "polyline damage calculation for F7.5 with a max dam of 114.92894716281305: 100%|█| 5994/5994 [00:02<00:00, 2954.17it/s]\n",
      "polyline damage calculation for F7.5 with a max dam of 221597.82214470676: 100%|█| 5994/5994 [00:02<00:00, 2889.18it/s]\n",
      "polyline damage calculation for F7.5 with a max dam of 22159.782214470677: 100%|█| 5994/5994 [00:02<00:00, 2974.69it/s]\n",
      "polyline damage calculation for F7.6 with a max dam of 909.3454827565133: 100%|██| 5994/5994 [00:02<00:00, 2881.61it/s]\n",
      "polyline damage calculation for F7.6 with a max dam of 909.3454827565133: 100%|██| 5994/5994 [00:02<00:00, 2925.15it/s]\n",
      "polyline damage calculation for F7.6 with a max dam of 7.7971745573977564: 100%|█| 5994/5994 [00:02<00:00, 2933.86it/s]\n",
      "polyline damage calculation for F7.6 with a max dam of 5746.447358140652: 100%|██| 5994/5994 [00:02<00:00, 2903.74it/s]\n",
      "polyline damage calculation for F7.6 with a max dam of 1340.8377168994855: 100%|█| 5994/5994 [00:02<00:00, 2855.65it/s]\n",
      "polyline damage calculation for F7.6 with a max dam of 660.841446186175: 100%|███| 5994/5994 [00:02<00:00, 2901.26it/s]\n",
      "polyline damage calculation for F7.6 with a max dam of 95.77412263567753: 100%|██| 5994/5994 [00:02<00:00, 2927.89it/s]\n",
      "polyline damage calculation for F7.6 with a max dam of 114.92894716281305: 100%|█| 5994/5994 [00:01<00:00, 3016.61it/s]\n",
      "polyline damage calculation for F7.6 with a max dam of 221597.82214470676: 100%|█| 5994/5994 [00:02<00:00, 2929.32it/s]\n",
      "polyline damage calculation for F7.6 with a max dam of 22159.782214470677: 100%|█| 5994/5994 [00:02<00:00, 2985.00it/s]\n",
      "polyline damage calculation for F7.7 with a max dam of 909.3454827565133: 100%|██| 5994/5994 [00:02<00:00, 2967.31it/s]\n",
      "polyline damage calculation for F7.7 with a max dam of 909.3454827565133: 100%|██| 5994/5994 [00:02<00:00, 2918.83it/s]\n",
      "polyline damage calculation for F7.7 with a max dam of 7.7971745573977564: 100%|█| 5994/5994 [00:01<00:00, 3011.81it/s]\n",
      "polyline damage calculation for F7.7 with a max dam of 5746.447358140652: 100%|██| 5994/5994 [00:02<00:00, 2949.75it/s]\n",
      "polyline damage calculation for F7.7 with a max dam of 1340.8377168994855: 100%|█| 5994/5994 [00:01<00:00, 3004.51it/s]\n",
      "polyline damage calculation for F7.7 with a max dam of 660.841446186175: 100%|███| 5994/5994 [00:02<00:00, 2990.94it/s]\n",
      "polyline damage calculation for F7.7 with a max dam of 95.77412263567753: 100%|██| 5994/5994 [00:01<00:00, 3002.15it/s]\n",
      "polyline damage calculation for F7.7 with a max dam of 114.92894716281305: 100%|█| 5994/5994 [00:02<00:00, 2960.23it/s]\n",
      "polyline damage calculation for F7.7 with a max dam of 221597.82214470676: 100%|█| 5994/5994 [00:02<00:00, 2989.05it/s]\n",
      "polyline damage calculation for F7.7 with a max dam of 22159.782214470677: 100%|█| 5994/5994 [00:02<00:00, 2921.02it/s]\n",
      "polyline damage calculation for F7.8 with a max dam of 909.3454827565133: 100%|██| 5994/5994 [00:02<00:00, 2951.19it/s]\n",
      "polyline damage calculation for F7.8 with a max dam of 909.3454827565133: 100%|██| 5994/5994 [00:02<00:00, 2639.34it/s]\n",
      "polyline damage calculation for F7.8 with a max dam of 7.7971745573977564: 100%|█| 5994/5994 [00:02<00:00, 2956.17it/s]\n",
      "polyline damage calculation for F7.8 with a max dam of 5746.447358140652: 100%|██| 5994/5994 [00:02<00:00, 2911.12it/s]\n",
      "polyline damage calculation for F7.8 with a max dam of 1340.8377168994855: 100%|█| 5994/5994 [00:02<00:00, 2983.57it/s]\n",
      "polyline damage calculation for F7.8 with a max dam of 660.841446186175: 100%|███| 5994/5994 [00:01<00:00, 3007.49it/s]\n",
      "polyline damage calculation for F7.8 with a max dam of 95.77412263567753: 100%|██| 5994/5994 [00:02<00:00, 2842.76it/s]\n",
      "polyline damage calculation for F7.8 with a max dam of 114.92894716281305: 100%|█| 5994/5994 [00:02<00:00, 2964.87it/s]\n",
      "polyline damage calculation for F7.8 with a max dam of 221597.82214470676: 100%|█| 5994/5994 [00:02<00:00, 2911.15it/s]\n",
      "polyline damage calculation for F7.8 with a max dam of 22159.782214470677: 100%|█| 5994/5994 [00:02<00:00, 2967.22it/s]\n",
      "polyline damage calculation for F7.9 with a max dam of 909.3454827565133: 100%|██| 5994/5994 [00:02<00:00, 2912.85it/s]\n",
      "polyline damage calculation for F7.9 with a max dam of 909.3454827565133: 100%|██| 5994/5994 [00:01<00:00, 3007.87it/s]\n",
      "polyline damage calculation for F7.9 with a max dam of 7.7971745573977564: 100%|█| 5994/5994 [00:02<00:00, 2901.61it/s]\n",
      "polyline damage calculation for F7.9 with a max dam of 5746.447358140652: 100%|██| 5994/5994 [00:02<00:00, 2952.69it/s]\n",
      "polyline damage calculation for F7.9 with a max dam of 1340.8377168994855: 100%|█| 5994/5994 [00:01<00:00, 3015.05it/s]\n",
      "polyline damage calculation for F7.9 with a max dam of 660.841446186175: 100%|███| 5994/5994 [00:02<00:00, 2943.93it/s]\n",
      "polyline damage calculation for F7.9 with a max dam of 95.77412263567753: 100%|██| 5994/5994 [00:02<00:00, 2944.63it/s]\n",
      "polyline damage calculation for F7.9 with a max dam of 114.92894716281305: 100%|█| 5994/5994 [00:01<00:00, 3023.72it/s]\n",
      "polyline damage calculation for F7.9 with a max dam of 221597.82214470676: 100%|█| 5994/5994 [00:02<00:00, 2949.81it/s]\n",
      "polyline damage calculation for F7.9 with a max dam of 22159.782214470677: 100%|█| 5994/5994 [00:02<00:00, 2942.56it/s]\n",
      "polyline damage calculation for F7.10 with a max dam of 909.3454827565133: 100%|█| 5994/5994 [00:02<00:00, 2904.05it/s]\n",
      "polyline damage calculation for F7.10 with a max dam of 909.3454827565133: 100%|█| 5994/5994 [00:02<00:00, 2874.54it/s]\n",
      "polyline damage calculation for F7.10 with a max dam of 7.7971745573977564: 100%|█| 5994/5994 [00:02<00:00, 2884.98it/s\n",
      "polyline damage calculation for F7.10 with a max dam of 5746.447358140652: 100%|█| 5994/5994 [00:02<00:00, 2955.61it/s]\n",
      "polyline damage calculation for F7.10 with a max dam of 1340.8377168994855: 100%|█| 5994/5994 [00:02<00:00, 2942.51it/s\n",
      "polyline damage calculation for F7.10 with a max dam of 660.841446186175: 100%|██| 5994/5994 [00:02<00:00, 2996.18it/s]\n",
      "polyline damage calculation for F7.10 with a max dam of 95.77412263567753: 100%|█| 5994/5994 [00:02<00:00, 2952.69it/s]\n",
      "polyline damage calculation for F7.10 with a max dam of 114.92894716281305: 100%|█| 5994/5994 [00:01<00:00, 2998.30it/s\n",
      "polyline damage calculation for F7.10 with a max dam of 221597.82214470676: 100%|█| 5994/5994 [00:02<00:00, 2945.32it/s\n",
      "polyline damage calculation for F7.10 with a max dam of 22159.782214470677: 100%|█| 5994/5994 [00:02<00:00, 2961.47it/s\n",
      "polyline damage calculation for F7.11 with a max dam of 909.3454827565133: 100%|█| 5994/5994 [00:02<00:00, 2952.60it/s]\n",
      "polyline damage calculation for F7.11 with a max dam of 909.3454827565133: 100%|█| 5994/5994 [00:02<00:00, 2976.91it/s]\n",
      "polyline damage calculation for F7.11 with a max dam of 7.7971745573977564: 100%|█| 5994/5994 [00:01<00:00, 3004.86it/s\n",
      "polyline damage calculation for F7.11 with a max dam of 5746.447358140652: 100%|█| 5994/5994 [00:02<00:00, 2971.71it/s]\n",
      "polyline damage calculation for F7.11 with a max dam of 1340.8377168994855: 100%|█| 5994/5994 [00:02<00:00, 2987.29it/s\n",
      "polyline damage calculation for F7.11 with a max dam of 660.841446186175: 100%|██| 5994/5994 [00:01<00:00, 3009.41it/s]\n",
      "polyline damage calculation for F7.11 with a max dam of 95.77412263567753: 100%|█| 5994/5994 [00:01<00:00, 3055.09it/s]\n",
      "polyline damage calculation for F7.11 with a max dam of 114.92894716281305: 100%|█| 5994/5994 [00:02<00:00, 2927.29it/s\n",
      "polyline damage calculation for F7.11 with a max dam of 221597.82214470676: 100%|█| 5994/5994 [00:02<00:00, 2865.19it/s\n",
      "polyline damage calculation for F7.11 with a max dam of 22159.782214470677: 100%|█| 5994/5994 [00:01<00:00, 3010.55it/s\n",
      "polyline damage calculation for F7.12 with a max dam of 909.3454827565133: 100%|█| 5994/5994 [00:02<00:00, 2914.37it/s]\n",
      "polyline damage calculation for F7.12 with a max dam of 909.3454827565133: 100%|█| 5994/5994 [00:02<00:00, 2916.07it/s]\n",
      "polyline damage calculation for F7.12 with a max dam of 7.7971745573977564: 100%|█| 5994/5994 [00:01<00:00, 3021.63it/s\n",
      "polyline damage calculation for F7.12 with a max dam of 5746.447358140652: 100%|█| 5994/5994 [00:01<00:00, 3012.06it/s]\n",
      "polyline damage calculation for F7.12 with a max dam of 1340.8377168994855: 100%|█| 5994/5994 [00:02<00:00, 2942.56it/s\n",
      "polyline damage calculation for F7.12 with a max dam of 660.841446186175: 100%|██| 5994/5994 [00:02<00:00, 2985.65it/s]\n",
      "polyline damage calculation for F7.12 with a max dam of 95.77412263567753: 100%|█| 5994/5994 [00:02<00:00, 2952.69it/s]\n",
      "polyline damage calculation for F7.12 with a max dam of 114.92894716281305: 100%|█| 5994/5994 [00:02<00:00, 2987.84it/s\n",
      "polyline damage calculation for F7.12 with a max dam of 221597.82214470676: 100%|█| 5994/5994 [00:01<00:00, 3004.49it/s\n",
      "polyline damage calculation for F7.12 with a max dam of 22159.782214470677: 100%|█| 5994/5994 [00:01<00:00, 3019.66it/s\n",
      "polyline damage calculation for F7.13 with a max dam of 909.3454827565133: 100%|█| 5994/5994 [00:02<00:00, 2922.40it/s]\n",
      "polyline damage calculation for F7.13 with a max dam of 909.3454827565133: 100%|█| 5994/5994 [00:02<00:00, 2967.18it/s]\n",
      "polyline damage calculation for F7.13 with a max dam of 7.7971745573977564: 100%|█| 5994/5994 [00:02<00:00, 2906.72it/s\n",
      "polyline damage calculation for F7.13 with a max dam of 5746.447358140652: 100%|█| 5994/5994 [00:02<00:00, 2961.46it/s]\n",
      "polyline damage calculation for F7.13 with a max dam of 1340.8377168994855: 100%|█| 5994/5994 [00:02<00:00, 2965.83it/s\n",
      "polyline damage calculation for F7.13 with a max dam of 660.841446186175: 100%|██| 5994/5994 [00:01<00:00, 3042.54it/s]\n",
      "polyline damage calculation for F7.13 with a max dam of 95.77412263567753: 100%|█| 5994/5994 [00:01<00:00, 3009.04it/s]\n",
      "polyline damage calculation for F7.13 with a max dam of 114.92894716281305: 100%|█| 5994/5994 [00:02<00:00, 2928.70it/s\n",
      "polyline damage calculation for F7.13 with a max dam of 221597.82214470676: 100%|█| 5994/5994 [00:01<00:00, 3018.12it/s\n",
      "polyline damage calculation for F7.13 with a max dam of 22159.782214470677: 100%|█| 5994/5994 [00:02<00:00, 2940.37it/s\n"
     ]
    }
   ],
   "source": [
    "collect_output = {}\n",
    "geom_dict = roads[\"geometry\"].to_dict()\n",
    "type_dict = roads[\"asset\"].to_dict()\n",
    "\n",
    "flood_numpified = flood_map_vector.to_numpy()\n",
    "for infra_curve in infra_curves:\n",
    "    curve = infra_curves[infra_curve[0]]\n",
    "    for maxdam in maxdams:\n",
    "        for asset in tqdm(\n",
    "            overlay_roads.groupby(\"asset\"),\n",
    "            total=len(overlay_roads.asset.unique()),\n",
    "            desc=f\"polyline damage calculation for {infra_curve[0]} with a max dam of {maxdam}\",\n",
    "        ):\n",
    "            asset_geom = geom_dict[asset[0]]\n",
    "            asset_type = type_dict[asset[0]]\n",
    "            collect_output[infra_curve[0], maxdam] = get_damage_per_asset(\n",
    "                asset, flood_numpified, asset_geom, asset_type, curve, maxdam\n",
    "            )"
   ]
  },
  {
   "cell_type": "code",
   "execution_count": null,
   "id": "96767280-1e17-4740-9eed-891b1e4d72af",
   "metadata": {},
   "outputs": [],
   "source": []
  }
 ],
 "metadata": {
  "kernelspec": {
   "display_name": "Python 3 (ipykernel)",
   "language": "python",
   "name": "python3"
  },
  "language_info": {
   "codemirror_mode": {
    "name": "ipython",
    "version": 3
   },
   "file_extension": ".py",
   "mimetype": "text/x-python",
   "name": "python",
   "nbconvert_exporter": "python",
   "pygments_lexer": "ipython3",
   "version": "3.11.6"
  }
 },
 "nbformat": 4,
 "nbformat_minor": 5
}
