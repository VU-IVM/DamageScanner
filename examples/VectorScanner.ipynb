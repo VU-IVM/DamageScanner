{
 "cells": [
  {
   "cell_type": "markdown",
   "metadata": {},
   "source": [
    "### Load Damagescanner package"
   ]
  },
  {
   "cell_type": "code",
   "execution_count": 1,
   "metadata": {},
   "outputs": [],
   "source": [
    "import os,sys\n",
    "os.environ['USE_PYGEOS'] = '0'\n",
    "import rasterio\n",
    "import pyproj\n",
    "import shapely\n",
    "import xarray as xr\n",
    "import numpy as np\n",
    "import pandas as pd\n",
    "import geopandas as gpd\n",
    "from tqdm import tqdm\n",
    "import osmnx as ox\n",
    "import networkx as nx\n",
    "\n",
    "sys.path.append(\"../src/damagescanner\")\n",
    "\n",
    "#from core import VectorScanner \n",
    "from vector import roads,landuse,buildings\n",
    "\n",
    "data_path = '..'"
   ]
  },
  {
   "cell_type": "markdown",
   "metadata": {},
   "source": [
    "### Read input data"
   ]
  },
  {
   "cell_type": "code",
   "execution_count": 2,
   "metadata": {},
   "outputs": [],
   "source": [
    "inun_map = os.path.join(data_path,'data','hazard','inundation_map.tif')\n",
    "landuse_map = os.path.join(data_path,'data','landuse','landuse.shp')\n",
    "kampen = os.path.join(data_path,'data','landuse','kampen.osm.pbf') "
   ]
  },
  {
   "cell_type": "code",
   "execution_count": 3,
   "metadata": {
    "tags": []
   },
   "outputs": [
    {
     "name": "stderr",
     "output_type": "stream",
     "text": [
      "C:\\Users\\eks510\\.conda\\envs\\ds_env\\lib\\site-packages\\pyproj\\crs\\crs.py:141: FutureWarning: '+init=<authority>:<code>' syntax is deprecated. '<authority>:<code>' is the preferred initialization method. When making the change, be mindful of axis order changes: https://pyproj4.github.io/pyproj/stable/gotchas.html#axis-order-changes-in-proj-6\n",
      "  in_crs_string = _prepare_from_proj_string(in_crs_string)\n"
     ]
    },
    {
     "name": "stdout",
     "output_type": "stream",
     "text": [
      "CPU times: total: 1h 10min 43s\n",
      "Wall time: 1h 11min 3s\n"
     ]
    }
   ],
   "source": [
    "%%time\n",
    "\n",
    "from damagescanner.vector import buildings\n",
    "all_buildings = buildings('C:\\Data\\Global_Geospatial\\country_osm\\FRA.osm.pbf')"
   ]
  },
  {
   "cell_type": "code",
   "execution_count": 6,
   "metadata": {
    "tags": []
   },
   "outputs": [
    {
     "data": {
      "text/plain": [
       "48327575"
      ]
     },
     "execution_count": 6,
     "metadata": {},
     "output_type": "execute_result"
    }
   ],
   "source": [
    "len(all_buildings)#.loc[all_buildings.amenity=='marketplace']"
   ]
  },
  {
   "cell_type": "code",
   "execution_count": null,
   "metadata": {},
   "outputs": [],
   "source": [
    "all_buildings"
   ]
  },
  {
   "cell_type": "code",
   "execution_count": null,
   "metadata": {},
   "outputs": [],
   "source": [
    "place_name = 'Kampen, The Netherlands'\n",
    "cf = '[\"highway\"~\"trunk|motorway|primary|secondary|tertiary\"]'\n",
    "G = ox.graph_from_place(place_name, network_type=\"drive\", custom_filter=cf)\n",
    "\n",
    "roads = gpd.GeoDataFrame(nx.to_pandas_edgelist(G))\n",
    "roads = roads.set_crs(epsg=4326)\n",
    "roads.highway = roads.highway.astype('str')"
   ]
  },
  {
   "cell_type": "markdown",
   "metadata": {},
   "source": [
    "### Create dummy maximum damage dictionary and curves DataFrame"
   ]
  },
  {
   "cell_type": "code",
   "execution_count": null,
   "metadata": {},
   "outputs": [],
   "source": [
    "maxdam = {\"grass\":5,\n",
    "        \"forest\":10,\n",
    "        \"orchard\":50,\n",
    "        \"residential\":200,\n",
    "        \"industrial\":300,\n",
    "        \"retail\":300,\n",
    "        \"farmland\":10,\n",
    "        \"cemetery\":15,\n",
    "        \"construction\":10,\n",
    "        \"meadow\":5,\n",
    "        \"farmyard\":5,\n",
    "        \"scrub\":5,\n",
    "        \"allotments\":10,\n",
    "        \"reservoir\":5,\n",
    "        \"static_caravan\":100,\n",
    "        \"commercial\":300}\n",
    "\n",
    "curves = np.array(\n",
    "            [[0,0],\n",
    "            [50,0.2],\n",
    "            [100,0.4],\n",
    "            [150,0.6],\n",
    "            [200,0.8],\n",
    "            [250,1]])  \n",
    "    \n",
    "curves = np.concatenate((curves,\n",
    "                            np.transpose(np.array([curves[:,1]]*(len(maxdam)-1)))),\n",
    "                           axis=1)\n",
    "\n",
    "curves = pd.DataFrame(curves)\n",
    "curves.columns = ['depth']+list(maxdam.keys())\n",
    "curves.set_index('depth',inplace=True)    "
   ]
  },
  {
   "cell_type": "code",
   "execution_count": null,
   "metadata": {},
   "outputs": [],
   "source": [
    "road_maxdam =  {\"trunk\":500,\n",
    "        \"trunk_link\":500,\n",
    "        \"secondary\":300,\n",
    "        \"primary\":400,\n",
    "        \"tertiary\":200,\n",
    "        \"primary_link\":400,\n",
    "        \"tertiary_link\":200,\n",
    "        \"secondary_link\":300}\n",
    "\n",
    "road_curves = np.array(\n",
    "            [[0,0],\n",
    "            [50,0.2],\n",
    "            [100,0.4],\n",
    "            [150,0.6],\n",
    "            [200,0.8],\n",
    "            [250,1]])  \n",
    "    \n",
    "road_curves = np.concatenate((road_curves,\n",
    "                            np.transpose(np.array([road_curves[:,1]]*(len(road_maxdam)-1)))),\n",
    "                           axis=1)\n",
    "\n",
    "road_curves = pd.DataFrame(road_curves)\n",
    "road_curves.columns = ['depth']+list(road_maxdam.keys())\n",
    "road_curves.set_index('depth',inplace=True)    "
   ]
  },
  {
   "cell_type": "markdown",
   "metadata": {
    "tags": []
   },
   "source": [
    "### Run the VectorScanner"
   ]
  },
  {
   "cell_type": "markdown",
   "metadata": {},
   "source": [
    "For a road system"
   ]
  },
  {
   "cell_type": "code",
   "execution_count": null,
   "metadata": {},
   "outputs": [],
   "source": [
    "%%time\n",
    "road_damage = VectorScanner(roads,\n",
    "                            inun_map,\n",
    "                            road_curves,\n",
    "                            road_maxdam,\n",
    "                            cell_size = 5,\n",
    "                            exp_crs = 4326,\n",
    "                            haz_crs = 28992,\n",
    "                            object_col='highway',\n",
    "                            hazard_col='inun_val',\n",
    "                            centimeters=False,\n",
    "                            save=False)"
   ]
  },
  {
   "cell_type": "markdown",
   "metadata": {},
   "source": [
    "For a vectorized landuse map"
   ]
  },
  {
   "cell_type": "code",
   "execution_count": null,
   "metadata": {},
   "outputs": [],
   "source": [
    "%%time\n",
    "lu_damage = VectorScanner(landuse_map,\n",
    "                            inun_map,\n",
    "                            curves,\n",
    "                            maxdam,\n",
    "                            cell_size = 5,\n",
    "                            exp_crs = 28992,\n",
    "                            haz_crs = 28992,\n",
    "                            object_col='landuse',\n",
    "                            hazard_col='inun_val',\n",
    "                            centimeters=False,\n",
    "                            save=False)"
   ]
  },
  {
   "cell_type": "code",
   "execution_count": null,
   "metadata": {},
   "outputs": [],
   "source": []
  }
 ],
 "metadata": {
  "kernelspec": {
   "display_name": "Python 3 (ipykernel)",
   "language": "python",
   "name": "python3"
  },
  "language_info": {
   "codemirror_mode": {
    "name": "ipython",
    "version": 3
   },
   "file_extension": ".py",
   "mimetype": "text/x-python",
   "name": "python",
   "nbconvert_exporter": "python",
   "pygments_lexer": "ipython3",
   "version": "3.10.9"
  }
 },
 "nbformat": 4,
 "nbformat_minor": 4
}
