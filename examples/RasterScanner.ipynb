{
 "cells": [
  {
   "cell_type": "markdown",
   "metadata": {},
   "source": [
    "### Load Damagescanner package"
   ]
  },
  {
   "cell_type": "code",
   "execution_count": 1,
   "metadata": {},
   "outputs": [],
   "source": [
    "import os,sys\n",
    "os.environ['USE_PYGEOS'] = '0'\n",
    "import rasterio\n",
    "import shapely\n",
    "import xarray as xr\n",
    "import numpy as np\n",
    "import pandas as pd\n",
    "import geopandas as gpd\n",
    "from tqdm import tqdm\n",
    "from pathlib import Path,PurePath\n",
    "\n",
    "sys.path.append(\"../src/damagescanner\")\n",
    "\n",
    "#from core import VectorScanner \n",
    "\n",
    "from core import RasterScanner \n",
    "\n",
    "data_path = Path('..')"
   ]
  },
  {
   "cell_type": "code",
   "execution_count": 2,
   "metadata": {},
   "outputs": [
    {
     "data": {
      "text/plain": [
       "WindowsPath('..')"
      ]
     },
     "execution_count": 2,
     "metadata": {},
     "output_type": "execute_result"
    }
   ],
   "source": [
    "data_path"
   ]
  },
  {
   "cell_type": "markdown",
   "metadata": {},
   "source": [
    "### Read input data"
   ]
  },
  {
   "cell_type": "code",
   "execution_count": 3,
   "metadata": {},
   "outputs": [],
   "source": [
    "wind_map = data_path / 'data' / 'hazard' / 'windstorm.nc'\n",
    "inun_map = data_path / 'data' / 'hazard' / 'inundation_map.tif'\n",
    "landuse_map =  data_path / 'data' / 'landuse' / 'landuse_map.tif'\n",
    "curve_path = data_path / 'data' / 'curves' / 'curves.csv'\n",
    "maxdam_path = data_path / 'data' / 'curves' / 'maxdam.csv'"
   ]
  },
  {
   "cell_type": "markdown",
   "metadata": {
    "tags": []
   },
   "source": [
    "### Run the RasterScanner"
   ]
  },
  {
   "cell_type": "code",
   "execution_count": 4,
   "metadata": {},
   "outputs": [
    {
     "data": {
      "text/plain": [
       "True"
      ]
     },
     "execution_count": 4,
     "metadata": {},
     "output_type": "execute_result"
    }
   ],
   "source": [
    "isinstance(landuse_map, PurePath)"
   ]
  },
  {
   "cell_type": "code",
   "execution_count": 5,
   "metadata": {},
   "outputs": [
    {
     "name": "stdout",
     "output_type": "stream",
     "text": [
      "CPU times: total: 922 ms\n",
      "Wall time: 945 ms\n"
     ]
    }
   ],
   "source": [
    "%%time\n",
    "# Return dataframe with losses per land-use clas\n",
    "damage_df = RasterScanner(landuse_map,inun_map,curve_path,maxdam_path)[0]"
   ]
  },
  {
   "cell_type": "code",
   "execution_count": 6,
   "metadata": {
    "tags": []
   },
   "outputs": [
    {
     "name": "stdout",
     "output_type": "stream",
     "text": [
      "CPU times: total: 1.09 s\n",
      "Wall time: 1.1 s\n"
     ]
    }
   ],
   "source": [
    "%%time\n",
    "damage_df = RasterScanner(landuse_map,\n",
    "                  inun_map,\n",
    "                  curve_path,\n",
    "                  maxdam_path,\n",
    "                  lu_crs=28992,\n",
    "                  haz_crs=4326,                   \n",
    "                  hazard_col='FX',                  \n",
    "                  dtype = np.int32,\n",
    "                  output_path = Path('C:\\\\Data'),\n",
    "                  scenario_name = 'test',\n",
    "                  save=True)"
   ]
  },
  {
   "cell_type": "code",
   "execution_count": null,
   "metadata": {},
   "outputs": [],
   "source": []
  }
 ],
 "metadata": {
  "kernelspec": {
   "display_name": "Python 3 (ipykernel)",
   "language": "python",
   "name": "python3"
  },
  "language_info": {
   "codemirror_mode": {
    "name": "ipython",
    "version": 3
   },
   "file_extension": ".py",
   "mimetype": "text/x-python",
   "name": "python",
   "nbconvert_exporter": "python",
   "pygments_lexer": "ipython3",
   "version": "3.11.6"
  }
 },
 "nbformat": 4,
 "nbformat_minor": 4
}
